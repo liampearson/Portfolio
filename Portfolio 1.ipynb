{
 "cells": [
  {
   "cell_type": "markdown",
   "metadata": {},
   "source": [
    "# Portfolio 1: Cycling GPS Data\n",
    "\n",
    "In this portfolio you are asked to analyse some data collected from a portable GPS \n",
    "device during a number of cycling races. "
   ]
  },
  {
   "cell_type": "code",
   "execution_count": 1,
   "metadata": {},
   "outputs": [],
   "source": [
    "import pandas as pd\n",
    "import utils\n",
    "import math\n",
    "import numpy as np\n",
    "from matplotlib import pyplot as plt # Matplotlib for additional customization\n",
    "%matplotlib inline\n",
    "import seaborn as sns # Seaborn for plotting and styling"
   ]
  },
  {
   "cell_type": "markdown",
   "metadata": {},
   "source": [
    "## Utility Function\n",
    "\n",
    "You are provided with the definition of a function `parse_gpx` in the utils module that will read \n",
    "the XML data file and return a Pandas DataFrame."
   ]
  },
  {
   "cell_type": "code",
   "execution_count": 2,
   "metadata": {},
   "outputs": [
    {
     "data": {
      "text/html": [
       "<div>\n",
       "<style scoped>\n",
       "    .dataframe tbody tr th:only-of-type {\n",
       "        vertical-align: middle;\n",
       "    }\n",
       "\n",
       "    .dataframe tbody tr th {\n",
       "        vertical-align: top;\n",
       "    }\n",
       "\n",
       "    .dataframe thead th {\n",
       "        text-align: right;\n",
       "    }\n",
       "</style>\n",
       "<table border=\"1\" class=\"dataframe\">\n",
       "  <thead>\n",
       "    <tr style=\"text-align: right;\">\n",
       "      <th></th>\n",
       "      <th>elevation</th>\n",
       "      <th>latitude</th>\n",
       "      <th>longitude</th>\n",
       "    </tr>\n",
       "  </thead>\n",
       "  <tbody>\n",
       "    <tr>\n",
       "      <th>2012-09-22 21:46:56</th>\n",
       "      <td>35.6</td>\n",
       "      <td>-33.899426</td>\n",
       "      <td>150.97589</td>\n",
       "    </tr>\n",
       "    <tr>\n",
       "      <th>2012-09-22 21:46:56</th>\n",
       "      <td>35.6</td>\n",
       "      <td>-33.899426</td>\n",
       "      <td>150.97589</td>\n",
       "    </tr>\n",
       "    <tr>\n",
       "      <th>2012-09-22 21:46:56</th>\n",
       "      <td>35.6</td>\n",
       "      <td>-33.899426</td>\n",
       "      <td>150.97589</td>\n",
       "    </tr>\n",
       "    <tr>\n",
       "      <th>2012-09-22 21:46:56</th>\n",
       "      <td>35.6</td>\n",
       "      <td>-33.899426</td>\n",
       "      <td>150.97589</td>\n",
       "    </tr>\n",
       "    <tr>\n",
       "      <th>2012-09-22 21:46:56</th>\n",
       "      <td>35.6</td>\n",
       "      <td>-33.899426</td>\n",
       "      <td>150.97589</td>\n",
       "    </tr>\n",
       "  </tbody>\n",
       "</table>\n",
       "</div>"
      ],
      "text/plain": [
       "                     elevation   latitude  longitude\n",
       "2012-09-22 21:46:56       35.6 -33.899426  150.97589\n",
       "2012-09-22 21:46:56       35.6 -33.899426  150.97589\n",
       "2012-09-22 21:46:56       35.6 -33.899426  150.97589\n",
       "2012-09-22 21:46:56       35.6 -33.899426  150.97589\n",
       "2012-09-22 21:46:56       35.6 -33.899426  150.97589"
      ]
     },
     "execution_count": 2,
     "metadata": {},
     "output_type": "execute_result"
    }
   ],
   "source": [
    "df = utils.parse_gpx('data/ride1.gpx')\n",
    "df.head()"
   ]
  },
  {
   "cell_type": "markdown",
   "metadata": {},
   "source": [
    "## Inspecting/Checking data"
   ]
  },
  {
   "cell_type": "code",
   "execution_count": 3,
   "metadata": {},
   "outputs": [
    {
     "name": "stdout",
     "output_type": "stream",
     "text": [
      "(1677, 3)\n"
     ]
    }
   ],
   "source": [
    "print(df.shape)"
   ]
  },
  {
   "cell_type": "markdown",
   "metadata": {},
   "source": [
    "Since the first 5 rows are identical, remove duplicates"
   ]
  },
  {
   "cell_type": "code",
   "execution_count": 4,
   "metadata": {},
   "outputs": [
    {
     "data": {
      "text/html": [
       "<div>\n",
       "<style scoped>\n",
       "    .dataframe tbody tr th:only-of-type {\n",
       "        vertical-align: middle;\n",
       "    }\n",
       "\n",
       "    .dataframe tbody tr th {\n",
       "        vertical-align: top;\n",
       "    }\n",
       "\n",
       "    .dataframe thead th {\n",
       "        text-align: right;\n",
       "    }\n",
       "</style>\n",
       "<table border=\"1\" class=\"dataframe\">\n",
       "  <thead>\n",
       "    <tr style=\"text-align: right;\">\n",
       "      <th></th>\n",
       "      <th>elevation</th>\n",
       "      <th>latitude</th>\n",
       "      <th>longitude</th>\n",
       "    </tr>\n",
       "  </thead>\n",
       "  <tbody>\n",
       "    <tr>\n",
       "      <th>2012-09-22 21:46:56</th>\n",
       "      <td>35.6</td>\n",
       "      <td>-33.899426</td>\n",
       "      <td>150.975890</td>\n",
       "    </tr>\n",
       "    <tr>\n",
       "      <th>2012-09-22 21:46:57</th>\n",
       "      <td>35.6</td>\n",
       "      <td>-33.899430</td>\n",
       "      <td>150.975888</td>\n",
       "    </tr>\n",
       "    <tr>\n",
       "      <th>2012-09-22 21:47:24</th>\n",
       "      <td>35.6</td>\n",
       "      <td>-33.899436</td>\n",
       "      <td>150.975884</td>\n",
       "    </tr>\n",
       "    <tr>\n",
       "      <th>2012-09-22 21:47:27</th>\n",
       "      <td>35.6</td>\n",
       "      <td>-33.899491</td>\n",
       "      <td>150.975854</td>\n",
       "    </tr>\n",
       "    <tr>\n",
       "      <th>2012-09-22 21:47:29</th>\n",
       "      <td>35.6</td>\n",
       "      <td>-33.899550</td>\n",
       "      <td>150.975825</td>\n",
       "    </tr>\n",
       "  </tbody>\n",
       "</table>\n",
       "</div>"
      ],
      "text/plain": [
       "                     elevation   latitude   longitude\n",
       "2012-09-22 21:46:56       35.6 -33.899426  150.975890\n",
       "2012-09-22 21:46:57       35.6 -33.899430  150.975888\n",
       "2012-09-22 21:47:24       35.6 -33.899436  150.975884\n",
       "2012-09-22 21:47:27       35.6 -33.899491  150.975854\n",
       "2012-09-22 21:47:29       35.6 -33.899550  150.975825"
      ]
     },
     "execution_count": 4,
     "metadata": {},
     "output_type": "execute_result"
    }
   ],
   "source": [
    "df=df.drop_duplicates()\n",
    "df.head()"
   ]
  },
  {
   "cell_type": "code",
   "execution_count": 5,
   "metadata": {},
   "outputs": [
    {
     "data": {
      "text/plain": [
       "1572"
      ]
     },
     "execution_count": 5,
     "metadata": {},
     "output_type": "execute_result"
    }
   ],
   "source": [
    "len(df.index)"
   ]
  },
  {
   "cell_type": "markdown",
   "metadata": {},
   "source": [
    "105 identical rows were dropped. Now Check that all the columns are numeric:"
   ]
  },
  {
   "cell_type": "code",
   "execution_count": 6,
   "metadata": {},
   "outputs": [
    {
     "name": "stdout",
     "output_type": "stream",
     "text": [
      "elevation data type:  float64\n",
      "latitude data type:  float64\n",
      "longitude data type:  float64\n"
     ]
    }
   ],
   "source": [
    "print(\"elevation data type: \",df.elevation.dtype)\n",
    "print(\"latitude data type: \",df.latitude.dtype)\n",
    "print(\"longitude data type: \",df.longitude.dtype)"
   ]
  },
  {
   "cell_type": "markdown",
   "metadata": {},
   "source": [
    "Check for missing/NaN values. Since the function dropna() in pandas do not recognise empty strings/cells as null, I will first replace any blank cells to `NaN`, then drop ALL rows containing `NaN` "
   ]
  },
  {
   "cell_type": "code",
   "execution_count": 7,
   "metadata": {},
   "outputs": [],
   "source": [
    "df.replace('', np.nan, inplace=True)\n",
    "df.dropna(inplace=True)"
   ]
  },
  {
   "cell_type": "markdown",
   "metadata": {},
   "source": [
    "Now lets take a look at the description of the numerical data:"
   ]
  },
  {
   "cell_type": "code",
   "execution_count": 8,
   "metadata": {},
   "outputs": [
    {
     "data": {
      "text/html": [
       "<div>\n",
       "<style scoped>\n",
       "    .dataframe tbody tr th:only-of-type {\n",
       "        vertical-align: middle;\n",
       "    }\n",
       "\n",
       "    .dataframe tbody tr th {\n",
       "        vertical-align: top;\n",
       "    }\n",
       "\n",
       "    .dataframe thead th {\n",
       "        text-align: right;\n",
       "    }\n",
       "</style>\n",
       "<table border=\"1\" class=\"dataframe\">\n",
       "  <thead>\n",
       "    <tr style=\"text-align: right;\">\n",
       "      <th></th>\n",
       "      <th>elevation</th>\n",
       "      <th>latitude</th>\n",
       "      <th>longitude</th>\n",
       "    </tr>\n",
       "  </thead>\n",
       "  <tbody>\n",
       "    <tr>\n",
       "      <th>count</th>\n",
       "      <td>1572.000000</td>\n",
       "      <td>1572.000000</td>\n",
       "      <td>1572.000000</td>\n",
       "    </tr>\n",
       "    <tr>\n",
       "      <th>mean</th>\n",
       "      <td>34.540458</td>\n",
       "      <td>-33.898799</td>\n",
       "      <td>150.978981</td>\n",
       "    </tr>\n",
       "    <tr>\n",
       "      <th>std</th>\n",
       "      <td>5.104416</td>\n",
       "      <td>0.001716</td>\n",
       "      <td>0.002060</td>\n",
       "    </tr>\n",
       "    <tr>\n",
       "      <th>min</th>\n",
       "      <td>22.800000</td>\n",
       "      <td>-33.901209</td>\n",
       "      <td>150.975771</td>\n",
       "    </tr>\n",
       "    <tr>\n",
       "      <th>25%</th>\n",
       "      <td>30.600000</td>\n",
       "      <td>-33.900566</td>\n",
       "      <td>150.976901</td>\n",
       "    </tr>\n",
       "    <tr>\n",
       "      <th>50%</th>\n",
       "      <td>34.800000</td>\n",
       "      <td>-33.899060</td>\n",
       "      <td>150.979390</td>\n",
       "    </tr>\n",
       "    <tr>\n",
       "      <th>75%</th>\n",
       "      <td>38.800000</td>\n",
       "      <td>-33.896936</td>\n",
       "      <td>150.980925</td>\n",
       "    </tr>\n",
       "    <tr>\n",
       "      <th>max</th>\n",
       "      <td>45.000000</td>\n",
       "      <td>-33.896114</td>\n",
       "      <td>150.982015</td>\n",
       "    </tr>\n",
       "  </tbody>\n",
       "</table>\n",
       "</div>"
      ],
      "text/plain": [
       "         elevation     latitude    longitude\n",
       "count  1572.000000  1572.000000  1572.000000\n",
       "mean     34.540458   -33.898799   150.978981\n",
       "std       5.104416     0.001716     0.002060\n",
       "min      22.800000   -33.901209   150.975771\n",
       "25%      30.600000   -33.900566   150.976901\n",
       "50%      34.800000   -33.899060   150.979390\n",
       "75%      38.800000   -33.896936   150.980925\n",
       "max      45.000000   -33.896114   150.982015"
      ]
     },
     "execution_count": 8,
     "metadata": {},
     "output_type": "execute_result"
    }
   ],
   "source": [
    "df.describe()"
   ]
  },
  {
   "cell_type": "markdown",
   "metadata": {},
   "source": [
    "From the descriptive stats above, we can see that we have 1572 entries. The average elevation is 34.5m and ranges from 22.8 - 45m above sea level. The elevation data is split roughly 50/50 with around half the values being below the mean and the other half being above.\n",
    "\n",
    "The latitude and longitude have very small standard deviations which tells us that there wasnt much spread between the values. This is evident as the range of latitude is (-33.9, -33.89) and the range of longitude is (150.97, 150.98). This makes sense as Steve is travelling by bike and in a round circuit i.e. he isn't riding across the country. "
   ]
  },
  {
   "cell_type": "markdown",
   "metadata": {},
   "source": [
    "## Data Manipulation to answer questions\n",
    "### Distance Formula\n",
    "To calculate distances between to GPS points, I am using the below function from <a href=\"https://gist.github.com/rochacbruno/2883505\">github</a>. Instead of calculating the distance between two points in 2D space, the **Great Circle Distance** calculates the distance on the surphace of a sphere i.e. the earth's surface."
   ]
  },
  {
   "cell_type": "code",
   "execution_count": 10,
   "metadata": {},
   "outputs": [],
   "source": [
    "from math import radians, cos, sin, asin, sqrt\n",
    "def distance(lat1, lon1, lat2, lon2):\n",
    "    \"\"\"\n",
    "    Calculate the great circle distance between two points \n",
    "    on the earth (specified in decimal degrees)\n",
    "    \"\"\"\n",
    "    # convert decimal degrees to radians \n",
    "    #lon1, lat1, lon2, lat2 = map(radians, [lon1, lat1, lon2, lat2])\n",
    "    lat1, lon1, lat2, lon2 = map(radians, [lat1, lon1, lat2, lon2])\n",
    "    \n",
    "    # haversine formula \n",
    "    dlon = lon2 - lon1 \n",
    "    dlat = lat2 - lat1 \n",
    "\n",
    "    a = sin(dlat/2)**2 + cos(lat1) * cos(lat2) * sin(dlon/2)**2\n",
    "    c = 2 * asin(sqrt(a)) \n",
    "    # Radius of earth in kilometers is 6371\n",
    "    km = 6371* c #kilometre\n",
    "    return km "
   ]
  },
  {
   "cell_type": "markdown",
   "metadata": {},
   "source": [
    "### Calculate Distance\n",
    "\n",
    "This function first uses an empty list to catch all the distances. It then, using the iterrows function, itterates over each row, calculating the distance and storing it in the column\". There is a place-holder variable, prev_index, which assists in calculating the distance. At the end, this list of distances is converted to a series and added to the dataframe."
   ]
  },
  {
   "cell_type": "code",
   "execution_count": 12,
   "metadata": {},
   "outputs": [
    {
     "data": {
      "text/html": [
       "<div>\n",
       "<style scoped>\n",
       "    .dataframe tbody tr th:only-of-type {\n",
       "        vertical-align: middle;\n",
       "    }\n",
       "\n",
       "    .dataframe tbody tr th {\n",
       "        vertical-align: top;\n",
       "    }\n",
       "\n",
       "    .dataframe thead th {\n",
       "        text-align: right;\n",
       "    }\n",
       "</style>\n",
       "<table border=\"1\" class=\"dataframe\">\n",
       "  <thead>\n",
       "    <tr style=\"text-align: right;\">\n",
       "      <th></th>\n",
       "      <th>elevation</th>\n",
       "      <th>latitude</th>\n",
       "      <th>longitude</th>\n",
       "      <th>distance_km</th>\n",
       "    </tr>\n",
       "  </thead>\n",
       "  <tbody>\n",
       "    <tr>\n",
       "      <th>2012-09-22 21:46:56</th>\n",
       "      <td>35.6</td>\n",
       "      <td>-33.899426</td>\n",
       "      <td>150.975890</td>\n",
       "      <td>0.000000</td>\n",
       "    </tr>\n",
       "    <tr>\n",
       "      <th>2012-09-22 21:46:57</th>\n",
       "      <td>35.6</td>\n",
       "      <td>-33.899430</td>\n",
       "      <td>150.975888</td>\n",
       "      <td>0.000482</td>\n",
       "    </tr>\n",
       "    <tr>\n",
       "      <th>2012-09-22 21:47:24</th>\n",
       "      <td>35.6</td>\n",
       "      <td>-33.899436</td>\n",
       "      <td>150.975884</td>\n",
       "      <td>0.000762</td>\n",
       "    </tr>\n",
       "    <tr>\n",
       "      <th>2012-09-22 21:47:27</th>\n",
       "      <td>35.6</td>\n",
       "      <td>-33.899491</td>\n",
       "      <td>150.975854</td>\n",
       "      <td>0.006713</td>\n",
       "    </tr>\n",
       "    <tr>\n",
       "      <th>2012-09-22 21:47:29</th>\n",
       "      <td>35.6</td>\n",
       "      <td>-33.899550</td>\n",
       "      <td>150.975825</td>\n",
       "      <td>0.007085</td>\n",
       "    </tr>\n",
       "  </tbody>\n",
       "</table>\n",
       "</div>"
      ],
      "text/plain": [
       "                     elevation   latitude   longitude  distance_km\n",
       "2012-09-22 21:46:56       35.6 -33.899426  150.975890     0.000000\n",
       "2012-09-22 21:46:57       35.6 -33.899430  150.975888     0.000482\n",
       "2012-09-22 21:47:24       35.6 -33.899436  150.975884     0.000762\n",
       "2012-09-22 21:47:27       35.6 -33.899491  150.975854     0.006713\n",
       "2012-09-22 21:47:29       35.6 -33.899550  150.975825     0.007085"
      ]
     },
     "execution_count": 12,
     "metadata": {},
     "output_type": "execute_result"
    }
   ],
   "source": [
    "def calculate_distance(df):\n",
    "    \"\"\"\n",
    "    Calculate distance (by calling distance function) for each row then\n",
    "    add as a column to the dataframe\n",
    "    \"\"\"\n",
    "    #This empty list will eventually be distance column in df \n",
    "    distance_col=[]\n",
    "    \n",
    "    #remember what previous index was\n",
    "    prev_index = df.index[0]\n",
    "\n",
    "    for index, row in df.iterrows():\n",
    "        #calculate distance in km using the distance/haverstine formula above\n",
    "        distance_col.append(distance(df.latitude.loc[prev_index],\n",
    "                                     df.longitude.loc[prev_index],\n",
    "                                     df.latitude.loc[index],\n",
    "                                     df.longitude.loc[index]))\n",
    "        #update previous index for next iteration\n",
    "        prev_index=index\n",
    "    \n",
    "    #add distane column to dataframe (by converting to a series)\n",
    "    df['distance_km'] = pd.Series(distance_col, df.index) \n",
    "    \n",
    "calculate_distance(df)\n",
    "df.head()"
   ]
  },
  {
   "cell_type": "markdown",
   "metadata": {},
   "source": [
    "### Time Calculation (for each row)\n",
    "In preparation for the `speed` calculation, we will first calculate the `time` of each row"
   ]
  },
  {
   "cell_type": "code",
   "execution_count": 13,
   "metadata": {},
   "outputs": [
    {
     "data": {
      "text/html": [
       "<div>\n",
       "<style scoped>\n",
       "    .dataframe tbody tr th:only-of-type {\n",
       "        vertical-align: middle;\n",
       "    }\n",
       "\n",
       "    .dataframe tbody tr th {\n",
       "        vertical-align: top;\n",
       "    }\n",
       "\n",
       "    .dataframe thead th {\n",
       "        text-align: right;\n",
       "    }\n",
       "</style>\n",
       "<table border=\"1\" class=\"dataframe\">\n",
       "  <thead>\n",
       "    <tr style=\"text-align: right;\">\n",
       "      <th></th>\n",
       "      <th>elevation</th>\n",
       "      <th>latitude</th>\n",
       "      <th>longitude</th>\n",
       "      <th>distance_km</th>\n",
       "      <th>time_hr</th>\n",
       "    </tr>\n",
       "  </thead>\n",
       "  <tbody>\n",
       "    <tr>\n",
       "      <th>2012-09-22 21:46:56</th>\n",
       "      <td>35.6</td>\n",
       "      <td>-33.899426</td>\n",
       "      <td>150.975890</td>\n",
       "      <td>0.000000</td>\n",
       "      <td>0.000000</td>\n",
       "    </tr>\n",
       "    <tr>\n",
       "      <th>2012-09-22 21:46:57</th>\n",
       "      <td>35.6</td>\n",
       "      <td>-33.899430</td>\n",
       "      <td>150.975888</td>\n",
       "      <td>0.000482</td>\n",
       "      <td>0.000278</td>\n",
       "    </tr>\n",
       "    <tr>\n",
       "      <th>2012-09-22 21:47:24</th>\n",
       "      <td>35.6</td>\n",
       "      <td>-33.899436</td>\n",
       "      <td>150.975884</td>\n",
       "      <td>0.000762</td>\n",
       "      <td>0.007500</td>\n",
       "    </tr>\n",
       "    <tr>\n",
       "      <th>2012-09-22 21:47:27</th>\n",
       "      <td>35.6</td>\n",
       "      <td>-33.899491</td>\n",
       "      <td>150.975854</td>\n",
       "      <td>0.006713</td>\n",
       "      <td>0.000833</td>\n",
       "    </tr>\n",
       "    <tr>\n",
       "      <th>2012-09-22 21:47:29</th>\n",
       "      <td>35.6</td>\n",
       "      <td>-33.899550</td>\n",
       "      <td>150.975825</td>\n",
       "      <td>0.007085</td>\n",
       "      <td>0.000556</td>\n",
       "    </tr>\n",
       "  </tbody>\n",
       "</table>\n",
       "</div>"
      ],
      "text/plain": [
       "                     elevation   latitude   longitude  distance_km   time_hr\n",
       "2012-09-22 21:46:56       35.6 -33.899426  150.975890     0.000000  0.000000\n",
       "2012-09-22 21:46:57       35.6 -33.899430  150.975888     0.000482  0.000278\n",
       "2012-09-22 21:47:24       35.6 -33.899436  150.975884     0.000762  0.007500\n",
       "2012-09-22 21:47:27       35.6 -33.899491  150.975854     0.006713  0.000833\n",
       "2012-09-22 21:47:29       35.6 -33.899550  150.975825     0.007085  0.000556"
      ]
     },
     "execution_count": 13,
     "metadata": {},
     "output_type": "execute_result"
    }
   ],
   "source": [
    "def calculate_time(df):\n",
    "    \"\"\"\n",
    "    For each row in dataframe, calculate the TIME between current row and previous row\n",
    "    \"\"\"\n",
    "    #This empty list will eventually be our time column\n",
    "    time_col=[]\n",
    "    \n",
    "    #remember what previous index was\n",
    "    prev_index = df.index[0]\n",
    "\n",
    "    #for each row, calculate the time between current row and previous row\n",
    "    for index, row in df.iterrows():\n",
    "        #calculate time for current row   \n",
    "        start = prev_index\n",
    "        finish = index\n",
    "        time = (finish-start).total_seconds()\n",
    "        \n",
    "        #add time (in hours) to list\n",
    "        time_col.append(time/60/60)\n",
    "\n",
    "        #update previous index for next iteration\n",
    "        prev_index=index\n",
    "\n",
    "    #add the time column to the dataframe\n",
    "    df['time_hr'] = pd.Series(time_col, df.index) \n",
    "\n",
    "calculate_time(df)\n",
    "df.head()"
   ]
  },
  {
   "cell_type": "markdown",
   "metadata": {},
   "source": [
    "### Speed Calculation (for each row)\n",
    "Now I will simply calculate the speed of each row using the speed = distance/time. "
   ]
  },
  {
   "cell_type": "code",
   "execution_count": 14,
   "metadata": {},
   "outputs": [
    {
     "data": {
      "text/html": [
       "<div>\n",
       "<style scoped>\n",
       "    .dataframe tbody tr th:only-of-type {\n",
       "        vertical-align: middle;\n",
       "    }\n",
       "\n",
       "    .dataframe tbody tr th {\n",
       "        vertical-align: top;\n",
       "    }\n",
       "\n",
       "    .dataframe thead th {\n",
       "        text-align: right;\n",
       "    }\n",
       "</style>\n",
       "<table border=\"1\" class=\"dataframe\">\n",
       "  <thead>\n",
       "    <tr style=\"text-align: right;\">\n",
       "      <th></th>\n",
       "      <th>elevation</th>\n",
       "      <th>latitude</th>\n",
       "      <th>longitude</th>\n",
       "      <th>distance_km</th>\n",
       "      <th>time_hr</th>\n",
       "      <th>speed</th>\n",
       "    </tr>\n",
       "  </thead>\n",
       "  <tbody>\n",
       "    <tr>\n",
       "      <th>2012-09-22 21:46:56</th>\n",
       "      <td>35.6</td>\n",
       "      <td>-33.899426</td>\n",
       "      <td>150.975890</td>\n",
       "      <td>0.000000</td>\n",
       "      <td>0.000000</td>\n",
       "      <td>0.000000</td>\n",
       "    </tr>\n",
       "    <tr>\n",
       "      <th>2012-09-22 21:46:57</th>\n",
       "      <td>35.6</td>\n",
       "      <td>-33.899430</td>\n",
       "      <td>150.975888</td>\n",
       "      <td>0.000482</td>\n",
       "      <td>0.000278</td>\n",
       "      <td>1.733622</td>\n",
       "    </tr>\n",
       "    <tr>\n",
       "      <th>2012-09-22 21:47:24</th>\n",
       "      <td>35.6</td>\n",
       "      <td>-33.899436</td>\n",
       "      <td>150.975884</td>\n",
       "      <td>0.000762</td>\n",
       "      <td>0.007500</td>\n",
       "      <td>0.101667</td>\n",
       "    </tr>\n",
       "    <tr>\n",
       "      <th>2012-09-22 21:47:27</th>\n",
       "      <td>35.6</td>\n",
       "      <td>-33.899491</td>\n",
       "      <td>150.975854</td>\n",
       "      <td>0.006713</td>\n",
       "      <td>0.000833</td>\n",
       "      <td>8.055957</td>\n",
       "    </tr>\n",
       "    <tr>\n",
       "      <th>2012-09-22 21:47:29</th>\n",
       "      <td>35.6</td>\n",
       "      <td>-33.899550</td>\n",
       "      <td>150.975825</td>\n",
       "      <td>0.007085</td>\n",
       "      <td>0.000556</td>\n",
       "      <td>12.753849</td>\n",
       "    </tr>\n",
       "  </tbody>\n",
       "</table>\n",
       "</div>"
      ],
      "text/plain": [
       "                     elevation   latitude   longitude  distance_km   time_hr  \\\n",
       "2012-09-22 21:46:56       35.6 -33.899426  150.975890     0.000000  0.000000   \n",
       "2012-09-22 21:46:57       35.6 -33.899430  150.975888     0.000482  0.000278   \n",
       "2012-09-22 21:47:24       35.6 -33.899436  150.975884     0.000762  0.007500   \n",
       "2012-09-22 21:47:27       35.6 -33.899491  150.975854     0.006713  0.000833   \n",
       "2012-09-22 21:47:29       35.6 -33.899550  150.975825     0.007085  0.000556   \n",
       "\n",
       "                         speed  \n",
       "2012-09-22 21:46:56   0.000000  \n",
       "2012-09-22 21:46:57   1.733622  \n",
       "2012-09-22 21:47:24   0.101667  \n",
       "2012-09-22 21:47:27   8.055957  \n",
       "2012-09-22 21:47:29  12.753849  "
      ]
     },
     "execution_count": 14,
     "metadata": {},
     "output_type": "execute_result"
    }
   ],
   "source": [
    "def calculate_speed(df): \n",
    "    \"\"\"\n",
    "    calculate the speed for each row in dataframe\n",
    "    \"\"\"\n",
    "    df['speed']=df['distance_km']/df['time_hr']\n",
    "    df['speed'].fillna(0, inplace=True)\n",
    "    \n",
    "calculate_speed(df)   \n",
    "df.head()"
   ]
  },
  {
   "cell_type": "markdown",
   "metadata": {},
   "source": [
    "Now that we have added the speed to each row, check descriptive statistics:\n",
    "### Descriptive Statistics"
   ]
  },
  {
   "cell_type": "code",
   "execution_count": 15,
   "metadata": {},
   "outputs": [
    {
     "data": {
      "text/plain": [
       "count    1572.000000\n",
       "mean       38.067714\n",
       "std         7.064025\n",
       "min         0.000000\n",
       "25%        33.638492\n",
       "50%        36.887376\n",
       "75%        41.285999\n",
       "max        61.147657\n",
       "Name: speed, dtype: float64"
      ]
     },
     "execution_count": 15,
     "metadata": {},
     "output_type": "execute_result"
    }
   ],
   "source": [
    "df['speed'].describe()"
   ]
  },
  {
   "cell_type": "markdown",
   "metadata": {},
   "source": [
    "### What is the average speed of the rider?"
   ]
  },
  {
   "cell_type": "code",
   "execution_count": 16,
   "metadata": {},
   "outputs": [
    {
     "data": {
      "text/plain": [
       "38.06771449448306"
      ]
     },
     "execution_count": 16,
     "metadata": {},
     "output_type": "execute_result"
    }
   ],
   "source": [
    "df.speed.mean()"
   ]
  },
  {
   "cell_type": "markdown",
   "metadata": {},
   "source": [
    "### Plot a histogram showing distribution of speed over the course of the race"
   ]
  },
  {
   "cell_type": "code",
   "execution_count": 17,
   "metadata": {},
   "outputs": [
    {
     "data": {
      "image/png": "[encoded data removed]",
      "text/plain": [
       "<matplotlib.figure.Figure at 0x1fe26afb0b8>"
      ]
     },
     "metadata": {},
     "output_type": "display_data"
    }
   ],
   "source": [
    "ax = hist = df.hist(column='speed', bins=30, grid=False)"
   ]
  },
  {
   "cell_type": "markdown",
   "metadata": {},
   "source": [
    "### Calculate Gradient\n",
    "Gradient is the change in elevation per unit of distance. \n",
    "I have already calculated the distance\n",
    "\n",
    "Since the elevation for each measurement is given, I will simply compute the change for each row"
   ]
  },
  {
   "cell_type": "code",
   "execution_count": 18,
   "metadata": {},
   "outputs": [
    {
     "data": {
      "text/html": [
       "<div>\n",
       "<style scoped>\n",
       "    .dataframe tbody tr th:only-of-type {\n",
       "        vertical-align: middle;\n",
       "    }\n",
       "\n",
       "    .dataframe tbody tr th {\n",
       "        vertical-align: top;\n",
       "    }\n",
       "\n",
       "    .dataframe thead th {\n",
       "        text-align: right;\n",
       "    }\n",
       "</style>\n",
       "<table border=\"1\" class=\"dataframe\">\n",
       "  <thead>\n",
       "    <tr style=\"text-align: right;\">\n",
       "      <th></th>\n",
       "      <th>elevation</th>\n",
       "      <th>latitude</th>\n",
       "      <th>longitude</th>\n",
       "      <th>distance_km</th>\n",
       "      <th>time_hr</th>\n",
       "      <th>speed</th>\n",
       "      <th>gradient</th>\n",
       "    </tr>\n",
       "  </thead>\n",
       "  <tbody>\n",
       "    <tr>\n",
       "      <th>2012-09-22 22:42:30</th>\n",
       "      <td>42.4</td>\n",
       "      <td>-33.900135</td>\n",
       "      <td>150.975999</td>\n",
       "      <td>0.016388</td>\n",
       "      <td>0.000833</td>\n",
       "      <td>19.666091</td>\n",
       "      <td>0.024407</td>\n",
       "    </tr>\n",
       "    <tr>\n",
       "      <th>2012-09-22 22:42:32</th>\n",
       "      <td>42.8</td>\n",
       "      <td>-33.900193</td>\n",
       "      <td>150.976058</td>\n",
       "      <td>0.008441</td>\n",
       "      <td>0.000556</td>\n",
       "      <td>15.193182</td>\n",
       "      <td>0.047390</td>\n",
       "    </tr>\n",
       "    <tr>\n",
       "      <th>2012-09-22 22:42:34</th>\n",
       "      <td>43.0</td>\n",
       "      <td>-33.900252</td>\n",
       "      <td>150.976106</td>\n",
       "      <td>0.007916</td>\n",
       "      <td>0.000556</td>\n",
       "      <td>14.249089</td>\n",
       "      <td>0.025265</td>\n",
       "    </tr>\n",
       "    <tr>\n",
       "      <th>2012-09-22 22:42:36</th>\n",
       "      <td>43.0</td>\n",
       "      <td>-33.900313</td>\n",
       "      <td>150.976154</td>\n",
       "      <td>0.008101</td>\n",
       "      <td>0.000556</td>\n",
       "      <td>14.582556</td>\n",
       "      <td>0.000000</td>\n",
       "    </tr>\n",
       "    <tr>\n",
       "      <th>2012-09-22 22:42:38</th>\n",
       "      <td>43.2</td>\n",
       "      <td>-33.900369</td>\n",
       "      <td>150.976203</td>\n",
       "      <td>0.007696</td>\n",
       "      <td>0.000556</td>\n",
       "      <td>13.852529</td>\n",
       "      <td>0.025988</td>\n",
       "    </tr>\n",
       "  </tbody>\n",
       "</table>\n",
       "</div>"
      ],
      "text/plain": [
       "                     elevation   latitude   longitude  distance_km   time_hr  \\\n",
       "2012-09-22 22:42:30       42.4 -33.900135  150.975999     0.016388  0.000833   \n",
       "2012-09-22 22:42:32       42.8 -33.900193  150.976058     0.008441  0.000556   \n",
       "2012-09-22 22:42:34       43.0 -33.900252  150.976106     0.007916  0.000556   \n",
       "2012-09-22 22:42:36       43.0 -33.900313  150.976154     0.008101  0.000556   \n",
       "2012-09-22 22:42:38       43.2 -33.900369  150.976203     0.007696  0.000556   \n",
       "\n",
       "                         speed  gradient  \n",
       "2012-09-22 22:42:30  19.666091  0.024407  \n",
       "2012-09-22 22:42:32  15.193182  0.047390  \n",
       "2012-09-22 22:42:34  14.249089  0.025265  \n",
       "2012-09-22 22:42:36  14.582556  0.000000  \n",
       "2012-09-22 22:42:38  13.852529  0.025988  "
      ]
     },
     "execution_count": 18,
     "metadata": {},
     "output_type": "execute_result"
    }
   ],
   "source": [
    "def calculate_gradient(df):\n",
    "    #empty list to form gradeint column.\n",
    "    gradient_col = []\n",
    "    \n",
    "    #remember what previous index was\n",
    "    prev_index = df.index[0]\n",
    "\n",
    "    #iterate over dataframe\n",
    "    for index, row in df.iterrows():\n",
    "        #if distance is 0, gradient is 0\n",
    "        if(df.loc[index].distance_km == 0):\n",
    "            gradient=0\n",
    "        else:\n",
    "            #calculate elevation\n",
    "            elevation_change = df.loc[index].elevation - df.loc[prev_index].elevation\n",
    "            #calculate gradient\n",
    "            gradient = elevation_change/(df.loc[index].distance_km*1000) #metres\n",
    "            \n",
    "        gradient_col.append(gradient)\n",
    "\n",
    "        #update previous index for next iteration\n",
    "        prev_index=index\n",
    "\n",
    "    index=df.index \n",
    "    df['gradient'] = pd.Series(gradient_col, df.index) \n",
    "    \n",
    "calculate_gradient(df)\n",
    "df.tail()"
   ]
  },
  {
   "cell_type": "code",
   "execution_count": 19,
   "metadata": {},
   "outputs": [
    {
     "data": {
      "text/plain": [
       "<matplotlib.axes._subplots.AxesSubplot at 0x1fe26b06780>"
      ]
     },
     "execution_count": 19,
     "metadata": {},
     "output_type": "execute_result"
    },
    {
     "data": {
      "image/png": "[encoded data removed]",
      "text/plain": [
       "<matplotlib.figure.Figure at 0x1fe254b1080>"
      ]
     },
     "metadata": {},
     "output_type": "display_data"
    }
   ],
   "source": [
    "df.plot.scatter(x='gradient', y='speed', title=\"Speed vs Gradient\")"
   ]
  },
  {
   "cell_type": "markdown",
   "metadata": {},
   "source": [
    "**Comment** There appears to be a negative relationship between gradient and speed which suggests that as gradient increases, speed *decreases*."
   ]
  },
  {
   "cell_type": "markdown",
   "metadata": {},
   "source": [
    "## How many laps did the rider complete in the race?\n",
    "According to <a href='http://www.bankstownsportscycling.com/road.html'> Bankstown Sports cycling </a>, the track at Landsdowne Park is 2.1km. "
   ]
  },
  {
   "cell_type": "code",
   "execution_count": 20,
   "metadata": {},
   "outputs": [
    {
     "name": "stdout",
     "output_type": "stream",
     "text": [
      "Total number laps is:  16.599502857620337\n"
     ]
    }
   ],
   "source": [
    "#total_distance = df['distance_km'].sum()\n",
    "\n",
    "#print(\"Total number laps is: \",total_distance/2.1)"
   ]
  },
  {
   "cell_type": "code",
   "execution_count": 59,
   "metadata": {},
   "outputs": [
    {
     "data": {
      "text/plain": [
       "20.0"
      ]
     },
     "execution_count": 59,
     "metadata": {},
     "output_type": "execute_result"
    }
   ],
   "source": [
    "lapdf = df.round(4)\n",
    "\n",
    "def count_laps(df):\n",
    "    \"\"\"\n",
    "    Calculate number of laps by counting number times rider cross\n",
    "    a certain latitude measurement. This is divided by 2 as its a track\n",
    "    \"\"\"\n",
    "    #count number of laps\n",
    "    laps=0\n",
    "    start_lat = df.iloc[0].latitude\n",
    "\n",
    "    for index, row in df.iterrows():\n",
    "        if(df.latitude[index] in [start_lat, start_lat+0.00001, start_lat-0.00001]):\n",
    "            laps=laps+1\n",
    "\n",
    "    return (laps/2)\n",
    "\n",
    "count_laps(lapdf)"
   ]
  },
  {
   "cell_type": "code",
   "execution_count": 57,
   "metadata": {},
   "outputs": [
    {
     "data": {
      "text/html": [
       "<div>\n",
       "<style scoped>\n",
       "    .dataframe tbody tr th:only-of-type {\n",
       "        vertical-align: middle;\n",
       "    }\n",
       "\n",
       "    .dataframe tbody tr th {\n",
       "        vertical-align: top;\n",
       "    }\n",
       "\n",
       "    .dataframe thead th {\n",
       "        text-align: right;\n",
       "    }\n",
       "</style>\n",
       "<table border=\"1\" class=\"dataframe\">\n",
       "  <thead>\n",
       "    <tr style=\"text-align: right;\">\n",
       "      <th></th>\n",
       "      <th>elevation</th>\n",
       "      <th>latitude</th>\n",
       "      <th>longitude</th>\n",
       "      <th>distance_km</th>\n",
       "      <th>time_hr</th>\n",
       "      <th>speed</th>\n",
       "    </tr>\n",
       "  </thead>\n",
       "  <tbody>\n",
       "    <tr>\n",
       "      <th>2017-08-19 21:49:42</th>\n",
       "      <td>-0.2</td>\n",
       "      <td>-33.89971</td>\n",
       "      <td>150.97578</td>\n",
       "      <td>0.00000</td>\n",
       "      <td>0.00000</td>\n",
       "      <td>0.00000</td>\n",
       "    </tr>\n",
       "    <tr>\n",
       "      <th>2017-08-19 21:49:43</th>\n",
       "      <td>-0.2</td>\n",
       "      <td>-33.89972</td>\n",
       "      <td>150.97578</td>\n",
       "      <td>0.00190</td>\n",
       "      <td>0.00028</td>\n",
       "      <td>6.83750</td>\n",
       "    </tr>\n",
       "    <tr>\n",
       "      <th>2017-08-19 21:49:44</th>\n",
       "      <td>-0.2</td>\n",
       "      <td>-33.89975</td>\n",
       "      <td>150.97577</td>\n",
       "      <td>0.00268</td>\n",
       "      <td>0.00028</td>\n",
       "      <td>9.65881</td>\n",
       "    </tr>\n",
       "    <tr>\n",
       "      <th>2017-08-19 21:49:45</th>\n",
       "      <td>-0.2</td>\n",
       "      <td>-33.89977</td>\n",
       "      <td>150.97577</td>\n",
       "      <td>0.00302</td>\n",
       "      <td>0.00028</td>\n",
       "      <td>10.88955</td>\n",
       "    </tr>\n",
       "    <tr>\n",
       "      <th>2017-08-19 21:49:46</th>\n",
       "      <td>-0.2</td>\n",
       "      <td>-33.89980</td>\n",
       "      <td>150.97577</td>\n",
       "      <td>0.00334</td>\n",
       "      <td>0.00028</td>\n",
       "      <td>12.01365</td>\n",
       "    </tr>\n",
       "  </tbody>\n",
       "</table>\n",
       "</div>"
      ],
      "text/plain": [
       "                     elevation  latitude  longitude  distance_km  time_hr  \\\n",
       "2017-08-19 21:49:42       -0.2 -33.89971  150.97578      0.00000  0.00000   \n",
       "2017-08-19 21:49:43       -0.2 -33.89972  150.97578      0.00190  0.00028   \n",
       "2017-08-19 21:49:44       -0.2 -33.89975  150.97577      0.00268  0.00028   \n",
       "2017-08-19 21:49:45       -0.2 -33.89977  150.97577      0.00302  0.00028   \n",
       "2017-08-19 21:49:46       -0.2 -33.89980  150.97577      0.00334  0.00028   \n",
       "\n",
       "                        speed  \n",
       "2017-08-19 21:49:42   0.00000  \n",
       "2017-08-19 21:49:43   6.83750  \n",
       "2017-08-19 21:49:44   9.65881  \n",
       "2017-08-19 21:49:45  10.88955  \n",
       "2017-08-19 21:49:46  12.01365  "
      ]
     },
     "execution_count": 57,
     "metadata": {},
     "output_type": "execute_result"
    }
   ],
   "source": [
    "lapdf.head()"
   ]
  },
  {
   "cell_type": "markdown",
   "metadata": {},
   "source": [
    "# =====Challenge=====\n",
    "## 1. Clean up data\n"
   ]
  },
  {
   "cell_type": "code",
   "execution_count": 21,
   "metadata": {},
   "outputs": [],
   "source": [
    "df1=df.copy()\n",
    "df2 = utils.parse_gpx('data/ride2.gpx') \n",
    "df3 = utils.parse_gpx('data/ride3.gpx')\n",
    "df4 = utils.parse_gpx('data/ride4.gpx')\n",
    "df5 = utils.parse_gpx('data/ride5.gpx')\n",
    "df6 = utils.parse_gpx('data/ride6.gpx')\n",
    "df7 = utils.parse_gpx('data/ride7.gpx')\n",
    "df8 = utils.parse_gpx('data/ride8.gpx')\n",
    "df9 = utils.parse_gpx('data/ride9.gpx')\n",
    "\n",
    "\n",
    "for df in (df1, df2, df3, df4, df5, df6, df7, df8, df9):\n",
    "    #cleanup\n",
    "    df.drop_duplicates(inplace=True)\n",
    "    df.replace('', np.nan, inplace=True)\n",
    "    df.dropna(inplace=True)\n",
    "    \n",
    "    #calculate speeds\n",
    "    calculate_distance(df)\n",
    "    calculate_time(df)\n",
    "    calculate_time(df)\n",
    "    calculate_speed(df) \n"
   ]
  },
  {
   "cell_type": "markdown",
   "metadata": {},
   "source": [
    "## 2. Tabulate the average speeds of the races and the date of each race"
   ]
  },
  {
   "cell_type": "code",
   "execution_count": 22,
   "metadata": {},
   "outputs": [
    {
     "data": {
      "text/html": [
       "<div>\n",
       "<style scoped>\n",
       "    .dataframe tbody tr th:only-of-type {\n",
       "        vertical-align: middle;\n",
       "    }\n",
       "\n",
       "    .dataframe tbody tr th {\n",
       "        vertical-align: top;\n",
       "    }\n",
       "\n",
       "    .dataframe thead th {\n",
       "        text-align: right;\n",
       "    }\n",
       "</style>\n",
       "<table border=\"1\" class=\"dataframe\">\n",
       "  <thead>\n",
       "    <tr style=\"text-align: right;\">\n",
       "      <th></th>\n",
       "      <th>avg_speed</th>\n",
       "    </tr>\n",
       "    <tr>\n",
       "      <th>dates</th>\n",
       "      <th></th>\n",
       "    </tr>\n",
       "  </thead>\n",
       "  <tbody>\n",
       "    <tr>\n",
       "      <th>2011-08-27</th>\n",
       "      <td>37.081445</td>\n",
       "    </tr>\n",
       "    <tr>\n",
       "      <th>2012-09-22</th>\n",
       "      <td>38.067714</td>\n",
       "    </tr>\n",
       "    <tr>\n",
       "      <th>2012-12-29</th>\n",
       "      <td>36.670200</td>\n",
       "    </tr>\n",
       "    <tr>\n",
       "      <th>2013-09-28</th>\n",
       "      <td>38.057442</td>\n",
       "    </tr>\n",
       "    <tr>\n",
       "      <th>2014-12-27</th>\n",
       "      <td>38.176819</td>\n",
       "    </tr>\n",
       "    <tr>\n",
       "      <th>2016-04-02</th>\n",
       "      <td>38.190115</td>\n",
       "    </tr>\n",
       "    <tr>\n",
       "      <th>2017-02-18</th>\n",
       "      <td>35.795556</td>\n",
       "    </tr>\n",
       "    <tr>\n",
       "      <th>2017-08-19</th>\n",
       "      <td>34.445185</td>\n",
       "    </tr>\n",
       "    <tr>\n",
       "      <th>2017-09-02</th>\n",
       "      <td>36.943282</td>\n",
       "    </tr>\n",
       "  </tbody>\n",
       "</table>\n",
       "</div>"
      ],
      "text/plain": [
       "            avg_speed\n",
       "dates                \n",
       "2011-08-27  37.081445\n",
       "2012-09-22  38.067714\n",
       "2012-12-29  36.670200\n",
       "2013-09-28  38.057442\n",
       "2014-12-27  38.176819\n",
       "2016-04-02  38.190115\n",
       "2017-02-18  35.795556\n",
       "2017-08-19  34.445185\n",
       "2017-09-02  36.943282"
      ]
     },
     "execution_count": 22,
     "metadata": {},
     "output_type": "execute_result"
    }
   ],
   "source": [
    "dates_col = []\n",
    "avgspeed = []\n",
    "\n",
    "#go through every dataframe\n",
    "for df in (df1, df2, df3, df4, df5, df6, df7, df8, df9):\n",
    "    dates_col.append(df.index[0].date())\n",
    "    avgspeed.append(df.speed.mean())\n",
    "\n",
    "#add dates as a column    \n",
    "speedsdf = pd.DataFrame(dates_col, columns=['dates'])\n",
    "speedsdf.set_index('dates')\n",
    "#add speeds as a column  \n",
    "speedsdf['avg_speed'] = pd.Series(avgspeed, speedsdf.index) \n",
    "\n",
    "#order by date\n",
    "speedsdf = speedsdf.sort_values(by='dates')\n",
    "\n",
    "\n",
    "speedsdf.set_index('dates',inplace=True)\n",
    "speedsdf"
   ]
  },
  {
   "cell_type": "markdown",
   "metadata": {},
   "source": [
    "## Plot speed vs date - do I get faster or slower?"
   ]
  },
  {
   "cell_type": "code",
   "execution_count": 23,
   "metadata": {},
   "outputs": [
    {
     "data": {
      "text/plain": [
       "<matplotlib.axes._subplots.AxesSubplot at 0x1fe275a5a58>"
      ]
     },
     "execution_count": 23,
     "metadata": {},
     "output_type": "execute_result"
    },
    {
     "data": {
      "image/png": "[encoded data removed]",
      "text/plain": [
       "<matplotlib.figure.Figure at 0x1fe276bb0b8>"
      ]
     },
     "metadata": {},
     "output_type": "display_data"
    }
   ],
   "source": [
    "speedsdf.plot.line()"
   ]
  },
  {
   "cell_type": "markdown",
   "metadata": {},
   "source": [
    "### Answer: Slower"
   ]
  },
  {
   "cell_type": "code",
   "execution_count": null,
   "metadata": {},
   "outputs": [],
   "source": []
  }
 ],
 "metadata": {
  "kernelspec": {
   "display_name": "Python 3",
   "language": "python",
   "name": "python3"
  },
  "language_info": {
   "codemirror_mode": {
    "name": "ipython",
    "version": 3
   },
   "file_extension": ".py",
   "mimetype": "text/x-python",
   "name": "python",
   "nbconvert_exporter": "python",
   "pygments_lexer": "ipython3",
   "version": "3.6.4"
  }
 },
 "nbformat": 4,
 "nbformat_minor": 2
}
